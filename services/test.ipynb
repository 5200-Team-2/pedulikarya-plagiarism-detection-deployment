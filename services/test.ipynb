{
 "cells": [
  {
   "cell_type": "code",
   "execution_count": 1,
   "metadata": {},
   "outputs": [],
   "source": [
    "from pickle import load, dump\n",
    "import pandas as pd"
   ]
  },
  {
   "cell_type": "code",
   "execution_count": 2,
   "metadata": {},
   "outputs": [],
   "source": [
    "with open('data/df.pkl', 'rb') as f:\n",
    "    df = load(f)"
   ]
  },
  {
   "cell_type": "code",
   "execution_count": 3,
   "metadata": {},
   "outputs": [
    {
     "data": {
      "text/html": [
       "<div>\n",
       "<style scoped>\n",
       "    .dataframe tbody tr th:only-of-type {\n",
       "        vertical-align: middle;\n",
       "    }\n",
       "\n",
       "    .dataframe tbody tr th {\n",
       "        vertical-align: top;\n",
       "    }\n",
       "\n",
       "    .dataframe thead th {\n",
       "        text-align: right;\n",
       "    }\n",
       "</style>\n",
       "<table border=\"1\" class=\"dataframe\">\n",
       "  <thead>\n",
       "    <tr style=\"text-align: right;\">\n",
       "      <th></th>\n",
       "      <th>source_url</th>\n",
       "      <th>paragraphs</th>\n",
       "      <th>paragraphs_sent_tok</th>\n",
       "      <th>mean_of_embeddings_vec</th>\n",
       "      <th>sum_of_embeddings_vec</th>\n",
       "    </tr>\n",
       "  </thead>\n",
       "  <tbody>\n",
       "    <tr>\n",
       "      <th>0</th>\n",
       "      <td>https://kumparan.com/ananda-wardhiati-teresia/...</td>\n",
       "      <td>[[[Ketua, MPR, Zulkifli, Hasan, menyesalkan, k...</td>\n",
       "      <td>[Ketua MPR Zulkifli Hasan menyesalkan kisruh y...</td>\n",
       "      <td>tensor(0.0001)</td>\n",
       "      <td>tensor(0.0790)</td>\n",
       "    </tr>\n",
       "    <tr>\n",
       "      <th>1</th>\n",
       "      <td>http://www.suara.com/entertainment/2017/09/06/...</td>\n",
       "      <td>[[[Suara.com, -, Cerita, sekuel, terbaru, Jame...</td>\n",
       "      <td>[Suara.com- Cerita sekuel terbaru James Bond b...</td>\n",
       "      <td>tensor(0.0001)</td>\n",
       "      <td>tensor(0.1129)</td>\n",
       "    </tr>\n",
       "    <tr>\n",
       "      <th>2</th>\n",
       "      <td>http://www.suara.com/bisnis/2017/03/13/201620/...</td>\n",
       "      <td>[[[Menteri, Pertanian, Andi, Amran, Sulaiman, ...</td>\n",
       "      <td>[Menteri Pertanian Andi Amran Sulaiman mengata...</td>\n",
       "      <td>tensor(0.0004)</td>\n",
       "      <td>tensor(0.3413)</td>\n",
       "    </tr>\n",
       "    <tr>\n",
       "      <th>3</th>\n",
       "      <td>http://poskotanews.com/2017/12/23/kalahkan-rea...</td>\n",
       "      <td>[[[SPANYOL, –, Barcelona, berhasil, memboyong,...</td>\n",
       "      <td>[SPANYOL – Barcelona berhasil memboyong kemena...</td>\n",
       "      <td>tensor(-0.0003)</td>\n",
       "      <td>tensor(-0.2613)</td>\n",
       "    </tr>\n",
       "    <tr>\n",
       "      <th>4</th>\n",
       "      <td>http://www.antaranews.com/berita/659644/jayawi...</td>\n",
       "      <td>[[[Wamena, (, ANTARA, News, ), -, Pemerintah, ...</td>\n",
       "      <td>[Wamena( ANTARA News)- Pemerintah Kabupaten Ja...</td>\n",
       "      <td>tensor(3.9441e-05)</td>\n",
       "      <td>tensor(0.0303)</td>\n",
       "    </tr>\n",
       "  </tbody>\n",
       "</table>\n",
       "</div>"
      ],
      "text/plain": [
       "                                          source_url  \\\n",
       "0  https://kumparan.com/ananda-wardhiati-teresia/...   \n",
       "1  http://www.suara.com/entertainment/2017/09/06/...   \n",
       "2  http://www.suara.com/bisnis/2017/03/13/201620/...   \n",
       "3  http://poskotanews.com/2017/12/23/kalahkan-rea...   \n",
       "4  http://www.antaranews.com/berita/659644/jayawi...   \n",
       "\n",
       "                                          paragraphs  \\\n",
       "0  [[[Ketua, MPR, Zulkifli, Hasan, menyesalkan, k...   \n",
       "1  [[[Suara.com, -, Cerita, sekuel, terbaru, Jame...   \n",
       "2  [[[Menteri, Pertanian, Andi, Amran, Sulaiman, ...   \n",
       "3  [[[SPANYOL, –, Barcelona, berhasil, memboyong,...   \n",
       "4  [[[Wamena, (, ANTARA, News, ), -, Pemerintah, ...   \n",
       "\n",
       "                                 paragraphs_sent_tok mean_of_embeddings_vec  \\\n",
       "0  [Ketua MPR Zulkifli Hasan menyesalkan kisruh y...         tensor(0.0001)   \n",
       "1  [Suara.com- Cerita sekuel terbaru James Bond b...         tensor(0.0001)   \n",
       "2  [Menteri Pertanian Andi Amran Sulaiman mengata...         tensor(0.0004)   \n",
       "3  [SPANYOL – Barcelona berhasil memboyong kemena...        tensor(-0.0003)   \n",
       "4  [Wamena( ANTARA News)- Pemerintah Kabupaten Ja...     tensor(3.9441e-05)   \n",
       "\n",
       "  sum_of_embeddings_vec  \n",
       "0        tensor(0.0790)  \n",
       "1        tensor(0.1129)  \n",
       "2        tensor(0.3413)  \n",
       "3       tensor(-0.2613)  \n",
       "4        tensor(0.0303)  "
      ]
     },
     "execution_count": 3,
     "metadata": {},
     "output_type": "execute_result"
    }
   ],
   "source": [
    "df.head()"
   ]
  },
  {
   "cell_type": "code",
   "execution_count": 4,
   "metadata": {},
   "outputs": [
    {
     "data": {
      "text/plain": [
       "(93870, 5)"
      ]
     },
     "execution_count": 4,
     "metadata": {},
     "output_type": "execute_result"
    }
   ],
   "source": [
    "df.shape"
   ]
  },
  {
   "cell_type": "code",
   "execution_count": 10,
   "metadata": {},
   "outputs": [],
   "source": [
    "from get_embeddings import mean_pooling_bert\n",
    "from similar_documents_retrieval import get_similar_docs_by_cos_sims\n",
    "from detailed_analysis import get_plagiarised_pairs\n",
    "from datetime import datetime\n",
    "\n",
    "with open('../data/indosum/df.pkl', 'rb') as f:\n",
    "    corpus = load(f)\n",
    "\n",
    "def transform_suspicious_text(sus_text):\n",
    "    print('[INFO] Transforming suspicious text into IndoBERT embeddings...')\n",
    "    embeddings = mean_pooling_bert(text=sus_text)\n",
    "    return embeddings\n",
    "\n",
    "def get_n_similar_documents(sus_text, n=5):\n",
    "    embeddings = transform_suspicious_text(sus_text=sus_text)\n",
    "    print(f'[INFO] Getting {n} similar documents by cosine similarity...')\n",
    "    similar_docs = get_similar_docs_by_cos_sims(sus_doc_embeddings=embeddings, n=n)\n",
    "    return similar_docs\n",
    "\n",
    "def detailed_plagiarism(sus_text, n=5, threshold=.9):\n",
    "    similar_sources = get_n_similar_documents(sus_text=sus_text, n=n)\n",
    "    similar_source_docs = {}\n",
    "    suspected_plagiarism_cases = {}\n",
    "    print('[INFO] Getting source documents..')\n",
    "    for src_idx in similar_sources:\n",
    "        similar_source_docs[src_idx] = corpus['paragraphs_sent_tok'][src_idx]\n",
    "        print(f'[INFO] Source document {src_idx} appended')\n",
    "\n",
    "    print('[INFO] Performing detailed analysis...')\n",
    "    for doc_idx, doc in similar_source_docs.items():\n",
    "        # print(doc)\n",
    "        suspected_plagiarism_cases[doc_idx] = get_plagiarised_pairs(src_doc=doc, sus_doc=sus_text, threshold=threshold)\n",
    "        print(f'[INFO] Source document {doc_idx} checked')\n",
    "\n",
    "    return suspected_plagiarism_cases"
   ]
  },
  {
   "cell_type": "code",
   "execution_count": 11,
   "metadata": {},
   "outputs": [
    {
     "name": "stdout",
     "output_type": "stream",
     "text": [
      "[INFO] Transforming suspicious text into IndoBERT embeddings...\n",
      "[INFO] Getting 5 similar documents by cosine similarity...\n",
      "[INFO] Getting source documents..\n",
      "[INFO] Source document 5 appended\n",
      "[INFO] Source document 22493 appended\n",
      "[INFO] Source document 41106 appended\n",
      "[INFO] Source document 60767 appended\n",
      "[INFO] Source document 75240 appended\n",
      "[INFO] Performing detailed analysis...\n",
      "[INFO] Length of source: 14\n",
      "[INFO] Length of sus: 14\n",
      "[INFO] Source document 5 checked\n",
      "[INFO] Length of source: 14\n",
      "[INFO] Length of sus: 14\n",
      "[INFO] Source document 22493 checked\n",
      "[INFO] Length of source: 14\n",
      "[INFO] Length of sus: 14\n",
      "[INFO] Source document 41106 checked\n",
      "[INFO] Length of source: 14\n",
      "[INFO] Length of sus: 14\n",
      "[INFO] Source document 60767 checked\n",
      "[INFO] Length of source: 14\n",
      "[INFO] Length of sus: 14\n",
      "[INFO] Source document 75240 checked\n",
      "{5: [('Tampilannya kini telah dirombak habis, mengadopsi gaya desain modern yang sebelumnya sudah tersedia pada aplikasi Google Calendar di perangkat mobile.', 'Penampilannya telah sepenuhnya diperbarui, mengadopsi gaya desain modern yang sebelumnya tersedia pada aplikasi Google Calendar di perangkat mobile.', 0.9218123555183411), ('Secara keseluruhan, Calendar versi baru tampak lebih rapi dan lebih mudah dinavigasikan.', 'Secara keseluruhan, versi Calendar baru terlihat lebih rapi dan lebih mudah untuk diarahkan.', 0.9170570969581604), ('Layout responsif yang digunakan berarti tampilannya akan disesuaikan secara otomatis dengan ukuran layar maupun jendela browser.', 'Layout responsif yang digunakan berarti penampilannya akan disesuaikan secara otomatis dengan ukuran layar dan jendela browser.', 0.9823387265205383), ('Tidak hanya berubah dari segi visual, Calendar versi baru juga mengemas sejumlah fitur yang cukup bermanfaat.', 'Bukan hanya berubah secara visual, versi Calendar baru juga membawa beberapa fitur yang berguna.', 0.9110565185546875), ('Salah satunya adalah kemampuan mengatur formatting dan menambahkan link pada undangan, sehingga pengguna dapat menciptakan agenda yang lebih merinci, dan materi- materi yang diperlukan bisa diakses oleh peserta lain sebelum rapat dimulai.', 'Salah satunya adalah kemampuan untuk memformat dan menambahkan tautan pada undangan, sehingga pengguna dapat membuat jadwal yang lebih detail dan memberikan akses kepada materi yang dibutuhkan oleh peserta lain sebelum rapat dimulai.', 0.9227195382118225), ('Calendar kini juga memberikan kemudahan untuk melihat dan mengatur beberapa kalender dari akun yang berbeda dalam tampilan harian.', 'Calendar sekarang juga membuat lebih mudah untuk melihat dan mengelola beberapa kalender dari akun yang berbeda dalam tampilan harian.', 0.9111515879631042), ('Bagi yang menggunakan Calendar pada akun pribadinya, mereka sudah bisa mengaktifkan tampilan baru ini dengan mengklik tombol “ Use new Calendar ” di ujung kanan atas.', 'Bagi yang menggunakan Calendar untuk akun pribadi mereka, mereka bisa mengaktifkan tampilan baru dengan mengklik tombol \"Use new Calendar\" di ujung kanan atas.', 0.9122424721717834), ('Administrator G Suite juga dapat mengaktifkan tampilan baru Calendar ini mulai hari ini juga.', 'Administrator G Suite juga dapat mengaktifkan tampilan baru Calendar mulai hari ini.', 0.9778216481208801), ('Sumber: Google.', 'Sumber: Google.', 1), ('DailySocial.id adalah portal berita startup dan inovasi teknologi.', 'DailySocial.id adalah portal berita startup dan inovasi teknologi.', 1), ('Kamu bisa menjadi member komunitas startup dan inovasi DailySocial.id, mengunduh laporan riset dan statistik seputar teknologi secara cuma-cuma, dan mengikuti berita startup Indonesia dan gadget terbaru.', 'Kamu bisa menjadi anggota komunitas startup dan inovasi DailySocial.id, mengunduh laporan riset dan statistik seputar teknologi secara gratis, dan mengikuti berita startup dan gadget terbaru di Indonesia.', 0.9742273092269897)], 22493: [('Tampilannya kini telah dirombak habis, mengadopsi gaya desain modern yang sebelumnya sudah tersedia pada aplikasi Google Calendar di perangkat mobile.', 'Penampilannya telah sepenuhnya diperbarui, mengadopsi gaya desain modern yang sebelumnya tersedia pada aplikasi Google Calendar di perangkat mobile.', 0.9218123555183411), ('Secara keseluruhan, Calendar versi baru tampak lebih rapi dan lebih mudah dinavigasikan.', 'Secara keseluruhan, versi Calendar baru terlihat lebih rapi dan lebih mudah untuk diarahkan.', 0.9170570969581604), ('Layout responsif yang digunakan berarti tampilannya akan disesuaikan secara otomatis dengan ukuran layar maupun jendela browser.', 'Layout responsif yang digunakan berarti penampilannya akan disesuaikan secara otomatis dengan ukuran layar dan jendela browser.', 0.9823387265205383), ('Tidak hanya berubah dari segi visual, Calendar versi baru juga mengemas sejumlah fitur yang cukup bermanfaat.', 'Bukan hanya berubah secara visual, versi Calendar baru juga membawa beberapa fitur yang berguna.', 0.9110565185546875), ('Salah satunya adalah kemampuan mengatur formatting dan menambahkan link pada undangan, sehingga pengguna dapat menciptakan agenda yang lebih merinci, dan materi- materi yang diperlukan bisa diakses oleh peserta lain sebelum rapat dimulai.', 'Salah satunya adalah kemampuan untuk memformat dan menambahkan tautan pada undangan, sehingga pengguna dapat membuat jadwal yang lebih detail dan memberikan akses kepada materi yang dibutuhkan oleh peserta lain sebelum rapat dimulai.', 0.9227195382118225), ('Calendar kini juga memberikan kemudahan untuk melihat dan mengatur beberapa kalender dari akun yang berbeda dalam tampilan harian.', 'Calendar sekarang juga membuat lebih mudah untuk melihat dan mengelola beberapa kalender dari akun yang berbeda dalam tampilan harian.', 0.9111515879631042), ('Bagi yang menggunakan Calendar pada akun pribadinya, mereka sudah bisa mengaktifkan tampilan baru ini dengan mengklik tombol “ Use new Calendar ” di ujung kanan atas.', 'Bagi yang menggunakan Calendar untuk akun pribadi mereka, mereka bisa mengaktifkan tampilan baru dengan mengklik tombol \"Use new Calendar\" di ujung kanan atas.', 0.9122424721717834), ('Administrator G Suite juga dapat mengaktifkan tampilan baru Calendar ini mulai hari ini juga.', 'Administrator G Suite juga dapat mengaktifkan tampilan baru Calendar mulai hari ini.', 0.9778216481208801), ('Sumber: Google.', 'Sumber: Google.', 1), ('DailySocial.id adalah portal berita startup dan inovasi teknologi.', 'DailySocial.id adalah portal berita startup dan inovasi teknologi.', 1), ('Kamu bisa menjadi member komunitas startup dan inovasi DailySocial.id, mengunduh laporan riset dan statistik seputar teknologi secara cuma-cuma, dan mengikuti berita startup Indonesia dan gadget terbaru.', 'Kamu bisa menjadi anggota komunitas startup dan inovasi DailySocial.id, mengunduh laporan riset dan statistik seputar teknologi secara gratis, dan mengikuti berita startup dan gadget terbaru di Indonesia.', 0.9742273092269897)], 41106: [('Tampilannya kini telah dirombak habis, mengadopsi gaya desain modern yang sebelumnya sudah tersedia pada aplikasi Google Calendar di perangkat mobile.', 'Penampilannya telah sepenuhnya diperbarui, mengadopsi gaya desain modern yang sebelumnya tersedia pada aplikasi Google Calendar di perangkat mobile.', 0.9218123555183411), ('Secara keseluruhan, Calendar versi baru tampak lebih rapi dan lebih mudah dinavigasikan.', 'Secara keseluruhan, versi Calendar baru terlihat lebih rapi dan lebih mudah untuk diarahkan.', 0.9170570969581604), ('Layout responsif yang digunakan berarti tampilannya akan disesuaikan secara otomatis dengan ukuran layar maupun jendela browser.', 'Layout responsif yang digunakan berarti penampilannya akan disesuaikan secara otomatis dengan ukuran layar dan jendela browser.', 0.9823387265205383), ('Tidak hanya berubah dari segi visual, Calendar versi baru juga mengemas sejumlah fitur yang cukup bermanfaat.', 'Bukan hanya berubah secara visual, versi Calendar baru juga membawa beberapa fitur yang berguna.', 0.9110565185546875), ('Salah satunya adalah kemampuan mengatur formatting dan menambahkan link pada undangan, sehingga pengguna dapat menciptakan agenda yang lebih merinci, dan materi- materi yang diperlukan bisa diakses oleh peserta lain sebelum rapat dimulai.', 'Salah satunya adalah kemampuan untuk memformat dan menambahkan tautan pada undangan, sehingga pengguna dapat membuat jadwal yang lebih detail dan memberikan akses kepada materi yang dibutuhkan oleh peserta lain sebelum rapat dimulai.', 0.9227195382118225), ('Calendar kini juga memberikan kemudahan untuk melihat dan mengatur beberapa kalender dari akun yang berbeda dalam tampilan harian.', 'Calendar sekarang juga membuat lebih mudah untuk melihat dan mengelola beberapa kalender dari akun yang berbeda dalam tampilan harian.', 0.9111515879631042), ('Bagi yang menggunakan Calendar pada akun pribadinya, mereka sudah bisa mengaktifkan tampilan baru ini dengan mengklik tombol “ Use new Calendar ” di ujung kanan atas.', 'Bagi yang menggunakan Calendar untuk akun pribadi mereka, mereka bisa mengaktifkan tampilan baru dengan mengklik tombol \"Use new Calendar\" di ujung kanan atas.', 0.9122424721717834), ('Administrator G Suite juga dapat mengaktifkan tampilan baru Calendar ini mulai hari ini juga.', 'Administrator G Suite juga dapat mengaktifkan tampilan baru Calendar mulai hari ini.', 0.9778216481208801), ('Sumber: Google.', 'Sumber: Google.', 1), ('DailySocial.id adalah portal berita startup dan inovasi teknologi.', 'DailySocial.id adalah portal berita startup dan inovasi teknologi.', 1), ('Kamu bisa menjadi member komunitas startup dan inovasi DailySocial.id, mengunduh laporan riset dan statistik seputar teknologi secara cuma-cuma, dan mengikuti berita startup Indonesia dan gadget terbaru.', 'Kamu bisa menjadi anggota komunitas startup dan inovasi DailySocial.id, mengunduh laporan riset dan statistik seputar teknologi secara gratis, dan mengikuti berita startup dan gadget terbaru di Indonesia.', 0.9742273092269897)], 60767: [('Tampilannya kini telah dirombak habis, mengadopsi gaya desain modern yang sebelumnya sudah tersedia pada aplikasi Google Calendar di perangkat mobile.', 'Penampilannya telah sepenuhnya diperbarui, mengadopsi gaya desain modern yang sebelumnya tersedia pada aplikasi Google Calendar di perangkat mobile.', 0.9218123555183411), ('Secara keseluruhan, Calendar versi baru tampak lebih rapi dan lebih mudah dinavigasikan.', 'Secara keseluruhan, versi Calendar baru terlihat lebih rapi dan lebih mudah untuk diarahkan.', 0.9170570969581604), ('Layout responsif yang digunakan berarti tampilannya akan disesuaikan secara otomatis dengan ukuran layar maupun jendela browser.', 'Layout responsif yang digunakan berarti penampilannya akan disesuaikan secara otomatis dengan ukuran layar dan jendela browser.', 0.9823387265205383), ('Tidak hanya berubah dari segi visual, Calendar versi baru juga mengemas sejumlah fitur yang cukup bermanfaat.', 'Bukan hanya berubah secara visual, versi Calendar baru juga membawa beberapa fitur yang berguna.', 0.9110565185546875), ('Salah satunya adalah kemampuan mengatur formatting dan menambahkan link pada undangan, sehingga pengguna dapat menciptakan agenda yang lebih merinci, dan materi- materi yang diperlukan bisa diakses oleh peserta lain sebelum rapat dimulai.', 'Salah satunya adalah kemampuan untuk memformat dan menambahkan tautan pada undangan, sehingga pengguna dapat membuat jadwal yang lebih detail dan memberikan akses kepada materi yang dibutuhkan oleh peserta lain sebelum rapat dimulai.', 0.9227195382118225), ('Calendar kini juga memberikan kemudahan untuk melihat dan mengatur beberapa kalender dari akun yang berbeda dalam tampilan harian.', 'Calendar sekarang juga membuat lebih mudah untuk melihat dan mengelola beberapa kalender dari akun yang berbeda dalam tampilan harian.', 0.9111515879631042), ('Bagi yang menggunakan Calendar pada akun pribadinya, mereka sudah bisa mengaktifkan tampilan baru ini dengan mengklik tombol “ Use new Calendar ” di ujung kanan atas.', 'Bagi yang menggunakan Calendar untuk akun pribadi mereka, mereka bisa mengaktifkan tampilan baru dengan mengklik tombol \"Use new Calendar\" di ujung kanan atas.', 0.9122424721717834), ('Administrator G Suite juga dapat mengaktifkan tampilan baru Calendar ini mulai hari ini juga.', 'Administrator G Suite juga dapat mengaktifkan tampilan baru Calendar mulai hari ini.', 0.9778216481208801), ('Sumber: Google.', 'Sumber: Google.', 1), ('DailySocial.id adalah portal berita startup dan inovasi teknologi.', 'DailySocial.id adalah portal berita startup dan inovasi teknologi.', 1), ('Kamu bisa menjadi member komunitas startup dan inovasi DailySocial.id, mengunduh laporan riset dan statistik seputar teknologi secara cuma-cuma, dan mengikuti berita startup Indonesia dan gadget terbaru.', 'Kamu bisa menjadi anggota komunitas startup dan inovasi DailySocial.id, mengunduh laporan riset dan statistik seputar teknologi secara gratis, dan mengikuti berita startup dan gadget terbaru di Indonesia.', 0.9742273092269897)], 75240: [('Tampilannya kini telah dirombak habis, mengadopsi gaya desain modern yang sebelumnya sudah tersedia pada aplikasi Google Calendar di perangkat mobile.', 'Penampilannya telah sepenuhnya diperbarui, mengadopsi gaya desain modern yang sebelumnya tersedia pada aplikasi Google Calendar di perangkat mobile.', 0.9218123555183411), ('Secara keseluruhan, Calendar versi baru tampak lebih rapi dan lebih mudah dinavigasikan.', 'Secara keseluruhan, versi Calendar baru terlihat lebih rapi dan lebih mudah untuk diarahkan.', 0.9170570969581604), ('Layout responsif yang digunakan berarti tampilannya akan disesuaikan secara otomatis dengan ukuran layar maupun jendela browser.', 'Layout responsif yang digunakan berarti penampilannya akan disesuaikan secara otomatis dengan ukuran layar dan jendela browser.', 0.9823387265205383), ('Tidak hanya berubah dari segi visual, Calendar versi baru juga mengemas sejumlah fitur yang cukup bermanfaat.', 'Bukan hanya berubah secara visual, versi Calendar baru juga membawa beberapa fitur yang berguna.', 0.9110565185546875), ('Salah satunya adalah kemampuan mengatur formatting dan menambahkan link pada undangan, sehingga pengguna dapat menciptakan agenda yang lebih merinci, dan materi- materi yang diperlukan bisa diakses oleh peserta lain sebelum rapat dimulai.', 'Salah satunya adalah kemampuan untuk memformat dan menambahkan tautan pada undangan, sehingga pengguna dapat membuat jadwal yang lebih detail dan memberikan akses kepada materi yang dibutuhkan oleh peserta lain sebelum rapat dimulai.', 0.9227195382118225), ('Calendar kini juga memberikan kemudahan untuk melihat dan mengatur beberapa kalender dari akun yang berbeda dalam tampilan harian.', 'Calendar sekarang juga membuat lebih mudah untuk melihat dan mengelola beberapa kalender dari akun yang berbeda dalam tampilan harian.', 0.9111515879631042), ('Bagi yang menggunakan Calendar pada akun pribadinya, mereka sudah bisa mengaktifkan tampilan baru ini dengan mengklik tombol “ Use new Calendar ” di ujung kanan atas.', 'Bagi yang menggunakan Calendar untuk akun pribadi mereka, mereka bisa mengaktifkan tampilan baru dengan mengklik tombol \"Use new Calendar\" di ujung kanan atas.', 0.9122424721717834), ('Administrator G Suite juga dapat mengaktifkan tampilan baru Calendar ini mulai hari ini juga.', 'Administrator G Suite juga dapat mengaktifkan tampilan baru Calendar mulai hari ini.', 0.9778216481208801), ('Sumber: Google.', 'Sumber: Google.', 1), ('DailySocial.id adalah portal berita startup dan inovasi teknologi.', 'DailySocial.id adalah portal berita startup dan inovasi teknologi.', 1), ('Kamu bisa menjadi member komunitas startup dan inovasi DailySocial.id, mengunduh laporan riset dan statistik seputar teknologi secara cuma-cuma, dan mengikuti berita startup Indonesia dan gadget terbaru.', 'Kamu bisa menjadi anggota komunitas startup dan inovasi DailySocial.id, mengunduh laporan riset dan statistik seputar teknologi secara gratis, dan mengikuti berita startup dan gadget terbaru di Indonesia.', 0.9742273092269897)]}\n",
      "total time: 0:00:18.767804\n"
     ]
    }
   ],
   "source": [
    "# test\n",
    "document = '''Versi web Google Calendar memiliki sesuatu yang baru untuk ditawarkan. Penampilannya telah sepenuhnya diperbarui, mengadopsi gaya desain modern yang sebelumnya tersedia pada aplikasi Google Calendar di perangkat mobile. Secara keseluruhan, versi Calendar baru terlihat lebih rapi dan lebih mudah untuk diarahkan. Layout responsif yang digunakan berarti penampilannya akan disesuaikan secara otomatis dengan ukuran layar dan jendela browser. Bukan hanya berubah secara visual, versi Calendar baru juga membawa beberapa fitur yang berguna. Salah satunya adalah kemampuan untuk memformat dan menambahkan tautan pada undangan, sehingga pengguna dapat membuat jadwal yang lebih detail dan memberikan akses kepada materi yang dibutuhkan oleh peserta lain sebelum rapat dimulai. Calendar sekarang juga membuat lebih mudah untuk melihat dan mengelola beberapa kalender dari akun yang berbeda dalam tampilan harian. Fitur ini tentunya akan sangat membantu pekerja yang harus menjadwalkan rapat untuk anggota tim mereka. Terakhir, saat membuat jadwal rapat baru, pengguna dapat menambahkan informasi yang lebih detail tentang ruang rapat, termasuk lokasi, kapasitas, peralatan audio dan video, dan informasi tentang aksesibilitas bagi peserta yang berkedudukan kursi roda. Bagi yang menggunakan Calendar untuk akun pribadi mereka, mereka bisa mengaktifkan tampilan baru dengan mengklik tombol \"Use new Calendar\" di ujung kanan atas. Administrator G Suite juga dapat mengaktifkan tampilan baru Calendar mulai hari ini. Sumber: Google. DailySocial.id adalah portal berita startup dan inovasi teknologi. Kamu bisa menjadi anggota komunitas startup dan inovasi DailySocial.id, mengunduh laporan riset dan statistik seputar teknologi secara gratis, dan mengikuti berita startup dan gadget terbaru di Indonesia.'''\n",
    "# sentences = sent_tokenize(document)\n",
    "# print(sentences)\n",
    "start = datetime.now()\n",
    "plagiarism_cases = detailed_plagiarism(sus_text=document, n=5, threshold=.9)\n",
    "print(plagiarism_cases)\n",
    "end = datetime.now()\n",
    "total_time = end-start\n",
    "print(f\"total time: {total_time}\")"
   ]
  },
  {
   "cell_type": "code",
   "execution_count": null,
   "metadata": {},
   "outputs": [],
   "source": []
  }
 ],
 "metadata": {
  "kernelspec": {
   "display_name": "Python 3",
   "language": "python",
   "name": "python3"
  },
  "language_info": {
   "codemirror_mode": {
    "name": "ipython",
    "version": 3
   },
   "file_extension": ".py",
   "mimetype": "text/x-python",
   "name": "python",
   "nbconvert_exporter": "python",
   "pygments_lexer": "ipython3",
   "version": "3.10.8"
  },
  "orig_nbformat": 4
 },
 "nbformat": 4,
 "nbformat_minor": 2
}
